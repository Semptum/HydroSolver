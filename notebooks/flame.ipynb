{
 "cells": [
  {
   "cell_type": "code",
   "execution_count": 2,
   "id": "23b95866-c949-4ee0-bcf6-8a68daae9216",
   "metadata": {},
   "outputs": [],
   "source": [
    "using Revise\n",
    "using HydroSolver\n",
    "using LinearAlgebra\n",
    "using StaticArrays\n",
    "using Statistics\n",
    "using GLMakie,Makie\n",
    "using IterativeSolvers\n",
    "using Unitful\n",
    "using ProfileView\n",
    "using JLD2"
   ]
  },
  {
   "cell_type": "markdown",
   "id": "83a9a0a0",
   "metadata": {},
   "source": [
    "On spécifie le type spatial du mesh: des points 2D."
   ]
  },
  {
   "cell_type": "code",
   "execution_count": 3,
   "id": "32dc2904-81f5-4564-a2e8-15aa7048382f",
   "metadata": {},
   "outputs": [
    {
     "data": {
      "text/plain": [
       "SVector{2, Float64} (alias for SArray{Tuple{2}, Float64, 1, 2})"
      ]
     },
     "execution_count": 3,
     "metadata": {},
     "output_type": "execute_result"
    }
   ],
   "source": [
    "Point = SVector{2,Float64}"
   ]
  },
  {
   "cell_type": "code",
   "execution_count": 4,
   "id": "905197d7-166d-4957-b2b7-e576d68470dd",
   "metadata": {},
   "outputs": [],
   "source": [
    "L_x = inrefunit(2u\"mm\")\n",
    "L_y = inrefunit(2u\"mm\")\n",
    "\n",
    "L_slot = inrefunit(0.5u\"mm\")\n",
    "L_coflow = inrefunit(0.5u\"mm\")\n",
    "\n",
    "U_slot = inrefunit(1u\"m/s\")\n",
    "T_slot = inrefunit(300u\"K\")\n",
    "U_coflow = inrefunit(0.2u\"m/s\")\n",
    "T_coflow = inrefunit(300u\"K\")\n",
    "\n",
    "ν = inrefunit(15e-6u\"m^2/s\")\n",
    "ρ = inrefunit(1.1614u\"kg/m^3\");"
   ]
  },
  {
   "cell_type": "code",
   "execution_count": 5,
   "id": "cacead4b-310a-4930-9563-aa23678c50c6",
   "metadata": {},
   "outputs": [],
   "source": [
    "@load \"mesh100\"\n",
    "@load \"U\"\n",
    "N_x=100\n",
    "N_y=100\n",
    "x_range=range(0,stop=L_x,length=N_x)\n",
    "y_range=range(0,stop=L_y,length=N_y)\n",
    "\n",
    "N_faces = length(mymesh.faces)\n",
    "N_cells = length(mymesh.cells);\n",
    "plot_faces,plot_vertices =  HydroSolver.mesh_to_polygons(mymesh);"
   ]
  },
  {
   "cell_type": "code",
   "execution_count": 26,
   "id": "bb2fa41f-afa6-4769-a300-41610fc03987",
   "metadata": {},
   "outputs": [],
   "source": [
    "species = [\"CH4\",\"O2\",\"N2\",\"H2O\",\"CO2\",\"T\"]\n",
    "BC_YT = Dict{String,Vector{HydroSolver.BoundaryConditions{Float64}}}(\n",
    "    i=>Vector{HydroSolver.BoundaryConditions{Float64}}(undef,length(mymesh.fCenters))\n",
    "for i in species)\n",
    "\n",
    "border = [-1 in v for (i,v) in enumerate(mymesh.faces)]\n",
    "left_border = [-1 in v && mymesh.fCenters[i][1] < mean(x_range[1:2]) for (i,v) in enumerate(mymesh.faces)]\n",
    "right_border = [-1 in v && mymesh.fCenters[i][1] > mean(x_range[end-1:end]) for (i,v) in enumerate(mymesh.faces)]\n",
    "bottom_border = [-1 in v && mymesh.fCenters[i][2] < mean(y_range[1:2]) for (i,v) in enumerate(mymesh.faces)]\n",
    "top_border = [-1 in v && mymesh.fCenters[i][2] > mean(y_range[end-1:end]) for (i,v) in enumerate(mymesh.faces)]\n",
    "\n",
    "bottom_slot = [0 <= i[1] <= L_slot for i in mymesh.fCenters] .* bottom_border\n",
    "top_slot = [0 <= i[1] <= L_slot for i in mymesh.fCenters] .* top_border\n",
    "bottom_coflow = [L_slot < i[1] <= L_slot+L_coflow for i in mymesh.fCenters] .* bottom_border\n",
    "top_coflow = [L_slot < i[1] <= L_slot+L_coflow for i in mymesh.fCenters] .* top_border\n",
    "\n",
    "\n",
    "for i in 1:N_faces\n",
    "    for s in species\n",
    "        BC_YT[s][i] = HydroSolver.None{Float64}()\n",
    "    end\n",
    "    if border[i]\n",
    "        BC_YT[\"T\"][i] = HydroSolver.Dirichlet{Float64}(300)\n",
    "    end\n",
    "    if bottom_slot[i]\n",
    "        BC_YT[\"O2\"][i] = HydroSolver.Dirichlet{Float64}(0.2)\n",
    "        BC_YT[\"N2\"][i] = HydroSolver.Dirichlet{Float64}(0.8)\n",
    "        BC_YT[\"CH4\"][i] = HydroSolver.Dirichlet{Float64}(0)\n",
    "        BC_YT[\"H2O\"][i] = HydroSolver.Dirichlet{Float64}(0)\n",
    "        BC_YT[\"CO2\"][i] = HydroSolver.Dirichlet{Float64}(0)\n",
    "        BC_YT[\"T\"][i] = HydroSolver.Dirichlet{Float64}(300)\n",
    "    end\n",
    "    if top_slot[i]\n",
    "        BC_YT[\"O2\"][i] = HydroSolver.Dirichlet{Float64}(0)\n",
    "        BC_YT[\"N2\"][i] = HydroSolver.Dirichlet{Float64}(0)\n",
    "        BC_YT[\"CH4\"][i] = HydroSolver.Dirichlet{Float64}(1)\n",
    "        BC_YT[\"H2O\"][i] = HydroSolver.Dirichlet{Float64}(0)\n",
    "        BC_YT[\"CO2\"][i] = HydroSolver.Dirichlet{Float64}(0)\n",
    "        BC_YT[\"T\"][i] = HydroSolver.Dirichlet{Float64}(300)\n",
    "    end\n",
    "    if bottom_coflow[i]\n",
    "        BC_YT[\"O2\"][i] = HydroSolver.Dirichlet{Float64}(0)\n",
    "        BC_YT[\"N2\"][i] = HydroSolver.Dirichlet{Float64}(1)\n",
    "        BC_YT[\"CH4\"][i] = HydroSolver.Dirichlet{Float64}(0)\n",
    "        BC_YT[\"H2O\"][i] = HydroSolver.Dirichlet{Float64}(0)\n",
    "        BC_YT[\"CO2\"][i] = HydroSolver.Dirichlet{Float64}(0)\n",
    "        BC_YT[\"T\"][i] = HydroSolver.Dirichlet{Float64}(300)\n",
    "    end\n",
    "    if top_coflow[i]\n",
    "        BC_YT[\"O2\"][i] = HydroSolver.Dirichlet{Float64}(0)\n",
    "        BC_YT[\"N2\"][i] = HydroSolver.Dirichlet{Float64}(1)\n",
    "        BC_YT[\"CH4\"][i] = HydroSolver.Dirichlet{Float64}(0)\n",
    "        BC_YT[\"H2O\"][i] = HydroSolver.Dirichlet{Float64}(0)\n",
    "        BC_YT[\"CO2\"][i] = HydroSolver.Dirichlet{Float64}(0)\n",
    "        BC_YT[\"T\"][i] = HydroSolver.Dirichlet{Float64}(300)\n",
    "    end\n",
    "end"
   ]
  },
  {
   "cell_type": "code",
   "execution_count": 27,
   "id": "cc8cda69-f387-4e2d-a8b2-506bccda8a5a",
   "metadata": {},
   "outputs": [],
   "source": [
    "DiffusYT = Dict(i=> HydroSolver.diffusion(mymesh,BC_quantity=BC_YT[i]) for i in species);\n",
    "∇ = HydroSolver.gradient(mymesh)\n",
    "J = HydroSolver.interpolation(mymesh,method=:Central)\n",
    "Sum=HydroSolver.face_sum(mymesh);\n",
    "fV = HydroSolver.face_vecs(mymesh);"
   ]
  },
  {
   "cell_type": "code",
   "execution_count": 40,
   "id": "1e96d27e-4194-4f10-a9b2-16fd8f2bd939",
   "metadata": {},
   "outputs": [],
   "source": [
    "YT = Dict(i=>zeros(N_cells) for i in species)\n",
    "YT[\"T\"] = 300.0*ones(N_cells)\n",
    "YT[\"T\"][[norm(i[2]-1)<0.25 for i in mymesh.cCenters]] .= 1000\n",
    "YT[\"N2\"] = 0.8*ones(N_cells)\n",
    "YT[\"O2\"] = 0.2*ones(N_cells);"
   ]
  },
  {
   "cell_type": "code",
   "execution_count": 45,
   "id": "91739134-5387-4342-9fbe-d5c77989dc26",
   "metadata": {},
   "outputs": [],
   "source": [
    "ρ = inrefunit(1.1614u\"kg/m^3\")\n",
    "c_p = inrefunit(1200u\"J/kg/K\")\n",
    "A = inrefunit(1.1e8u\"s^-1\")\n",
    "T_A = inrefunit(1e4u\"K\")\n",
    "W = inrefunit.([16,32,28,18,44].*1u\"g/mol\")\n",
    "νk = [-1,-2,0,2,1]\n",
    "enthalpy = inrefunit.([-74.9,0,0,-241.818,-393.52].*1u\"kJ/mol\");"
   ]
  },
  {
   "cell_type": "code",
   "execution_count": 47,
   "id": "9c823aa0-66c7-425f-a793-a3231ef6481f",
   "metadata": {},
   "outputs": [
    {
     "data": {
      "text/plain": [
       "ωYT (generic function with 2 methods)"
      ]
     },
     "execution_count": 47,
     "metadata": {},
     "output_type": "execute_result"
    }
   ],
   "source": [
    "function ωYT(Y,T)\n",
    "    Q = A*Y[1]*Y[2]^2*exp(-T_A/T)\n",
    "    ωk = W.*νk.*Q\n",
    "    ωt = -sum(enthalpy[k]/W[k]*ωk[k] for k in 1:5)\n",
    "    return ωk/ρ,ωt/(ρ*c_p)\n",
    "end\n",
    "\n",
    "function ωYT(YT)\n",
    "    vcat(ωYT(YT[1:5],YT[6])...)\n",
    "end"
   ]
  },
  {
   "cell_type": "code",
   "execution_count": 41,
   "id": "213fafd1-d9a0-4d62-a65b-82800fd7cef4",
   "metadata": {},
   "outputs": [],
   "source": [
    "function dt_concentrations(YT)\n",
    "    Dict(s=> ν*DiffusY[s]*YT[s] - Diagonal(U)*(∇*YT[s]) for s in species)\n",
    "end\n",
    "function operator_YT()\n",
    "    u = HydroSolver.split(Diagonal(U))\n",
    "    grad = HydroSolver.split(∇)\n",
    "    Dict(s=> ν*DiffusYT[s] - sum(u[i]*grad[i] for i in 1:2) for s in species)\n",
    "end\n",
    "opYT = operator_YT();"
   ]
  },
  {
   "cell_type": "code",
   "execution_count": 42,
   "id": "3eef83a8-2ef3-4453-be5a-206a56d1cbf9",
   "metadata": {},
   "outputs": [],
   "source": [
    "YT_stat = Dict(s=>\n",
    "    opYT[s].A \\ (-opYT[s].B)\n",
    "for s in species);"
   ]
  },
  {
   "cell_type": "code",
   "execution_count": 50,
   "id": "a08c8c6f-fab5-4eb9-8894-a2e03bfa1a1a",
   "metadata": {},
   "outputs": [
    {
     "data": {
      "image/png": "[encoded data removed]",
      "text/plain": [
       "FigureAxisPlot()"
      ]
     },
     "execution_count": 50,
     "metadata": {},
     "output_type": "execute_result"
    }
   ],
   "source": [
    "Makie.mesh(plot_vertices,plot_faces, color=HydroSolver.col(YT_stat[\"CH4\"]+YT_stat[\"N2\"]+YT_stat[\"O2\"]),shading=false)"
   ]
  },
  {
   "cell_type": "code",
   "execution_count": 36,
   "id": "134eae8b-639e-4021-9b3c-4da9a2181c51",
   "metadata": {},
   "outputs": [
    {
     "data": {
      "text/plain": [
       "HydroSolver.AffineTransform{SparseArrays.SparseMatrixCSC{Float64, Int64}, Vector{Float64}}(sparse([1, 2, 3, 100, 199, 1, 2, 3, 4, 101  …  9701, 9798, 9799, 9800, 9801, 9603, 9702, 9799, 9800, 9801], [1, 1, 1, 1, 1, 2, 2, 2, 2, 2  …  9800, 9800, 9800, 9800, 9800, 9801, 9801, 9801, 9801, 9801], [-153870.1228544569, 41289.61862740989, 9188.437499999998, 18380.70387961027, 9188.437499999998, -29896.889443938057, -128628.32061680888, 21845.21525308038, 9188.437499999987, 18390.40387233975  …  18171.734197124315, 9188.437499999882, 27.61967543780804, -129050.03673273929, 18366.087657400432, 9188.437499999985, 18307.001418904194, 9188.437499999985, 18392.663113301573, -202275.0582659005], 9801, 9801), [4.410449999999999e7, 2.2052249999999996e7, 2.2052249999999996e7, 2.2052249999999996e7, 2.205225e7, 2.2052249999999996e7, 2.205225e7, 2.2052249999999996e7, 2.205225e7, 2.205225e7  …  2.2052250000000443e7, 2.2052250000000443e7, 2.2052250000000443e7, 2.2052250000000443e7, 2.2052250000000443e7, 2.2052250000000443e7, 2.2052250000000443e7, 2.2052250000000443e7, 2.2052250000000443e7, 4.410450000000089e7])"
      ]
     },
     "execution_count": 36,
     "metadata": {},
     "output_type": "execute_result"
    }
   ],
   "source": [
    "Δt = 1e-6\n",
    "Δt_c = 1e-8\n",
    "for i in 1:1000\n",
    "    for s in species\n",
    "        Y[s] += 1e-7 * opYT[s]*Y[s] + ωYT\n",
    "    end"
   ]
  },
  {
   "cell_type": "code",
   "execution_count": null,
   "id": "bc13d13c-eba8-4557-94a6-919fcc100123",
   "metadata": {},
   "outputs": [],
   "source": []
  }
 ],
 "metadata": {
  "kernelspec": {
   "display_name": "Julia 1.7.0",
   "language": "julia",
   "name": "julia-1.7"
  },
  "language_info": {
   "file_extension": ".jl",
   "mimetype": "application/julia",
   "name": "julia",
   "version": "1.7.0"
  }
 },
 "nbformat": 4,
 "nbformat_minor": 5
}
